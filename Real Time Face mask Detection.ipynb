{
 "cells": [
  {
   "cell_type": "code",
   "execution_count": 9,
   "metadata": {},
   "outputs": [],
   "source": [
    "import cv2\n",
    "import numpy as np\n",
    "from tensorflow.keras.utils import to_categorical\n",
    "from sklearn.preprocessing import LabelBinarizer\n",
    "from sklearn.model_selection import train_test_split\n",
    "from keras.callbacks import ModelCheckpoint\n",
    "from keras.utils import np_utils\n",
    "from matplotlib import pyplot as plt"
   ]
  },
  {
   "cell_type": "code",
   "execution_count": 10,
   "metadata": {},
   "outputs": [
    {
     "name": "stdout",
     "output_type": "stream",
     "text": [
      "E:\\Kaggle\n"
     ]
    }
   ],
   "source": [
    "cd \"E:\\Kaggle\""
   ]
  },
  {
   "cell_type": "code",
   "execution_count": 11,
   "metadata": {},
   "outputs": [
    {
     "name": "stdout",
     "output_type": "stream",
     "text": [
      "{'without_mask': 0, 'with_mask': 1}\n",
      "['without_mask', 'with_mask']\n",
      "[0, 1]\n"
     ]
    }
   ],
   "source": [
    "import cv2,os\n",
    "\n",
    "data_path='dataset'\n",
    "categories=os.listdir(data_path)\n",
    "labels=[i for i in range(len(categories))]\n",
    "\n",
    "label_dict=dict(zip(categories,labels)) #empty dictionary\n",
    "\n",
    "print(label_dict)\n",
    "print(categories)\n",
    "print(labels)"
   ]
  },
  {
   "cell_type": "code",
   "execution_count": 12,
   "metadata": {},
   "outputs": [],
   "source": [
    "img_size=100\n",
    "data=[]\n",
    "target=[]\n",
    "\n",
    "\n",
    "for category in categories:\n",
    "    folder_path=os.path.join(data_path,category)\n",
    "    img_names=os.listdir(folder_path)\n",
    "        \n",
    "    for img_name in img_names:\n",
    "        img_path=os.path.join(folder_path,img_name)\n",
    "        img=cv2.imread(img_path)\n",
    "\n",
    "        try:\n",
    "            gray=cv2.cvtColor(img,cv2.COLOR_BGR2GRAY)           \n",
    "            #Coverting the image into gray scale\n",
    "            resized=cv2.resize(gray,(img_size,img_size))\n",
    "            #resizing the gray scale into 50x50, since we need a fixed common size for all the images in the dataset\n",
    "            data.append(resized)\n",
    "            target.append(label_dict[category])\n",
    "            #appending the image and the label(categorized) into the list (dataset)\n",
    "\n",
    "        except Exception as e:\n",
    "            print('Exception:',e)\n",
    "\n"
   ]
  },
  {
   "cell_type": "code",
   "execution_count": 13,
   "metadata": {},
   "outputs": [],
   "source": [
    "data=np.array(data)/255.0\n",
    "\n",
    "data=np.reshape(data,(data.shape[0],img_size,img_size,1))\n",
    "\n",
    "target=np.array(target)\n",
    "\n",
    "new_target=np_utils.to_categorical(target)"
   ]
  },
  {
   "cell_type": "code",
   "execution_count": 14,
   "metadata": {},
   "outputs": [],
   "source": [
    "np.save('data',data)\n",
    "np.save('target',new_target)"
   ]
  },
  {
   "cell_type": "code",
   "execution_count": 15,
   "metadata": {},
   "outputs": [],
   "source": [
    "data=np.load('data.npy')\n",
    "target=np.load('target.npy')"
   ]
  },
  {
   "cell_type": "markdown",
   "metadata": {},
   "source": [
    "## CNN Architecture 1"
   ]
  },
  {
   "cell_type": "code",
   "execution_count": 20,
   "metadata": {},
   "outputs": [],
   "source": [
    "from keras.models import Sequential\n",
    "from keras.layers import Dense,Activation,Flatten,Dropout\n",
    "from keras.layers import Conv2D,MaxPooling2D\n",
    "from keras.callbacks import ModelCheckpoint\n",
    "\n",
    "model=Sequential()\n",
    "\n",
    "model.add(Conv2D(200,(3,3),input_shape=data.shape[1:]))\n",
    "model.add(Activation('relu'))\n",
    "model.add(MaxPooling2D(pool_size=(2,2)))\n",
    "#The first CNN layer followed by Relu and MaxPooling layers\n",
    "\n",
    "model.add(Conv2D(100,(3,3)))\n",
    "model.add(Activation('relu'))\n",
    "model.add(MaxPooling2D(pool_size=(2,2)))\n",
    "#The second convolution layer followed by Relu and MaxPooling layers\n",
    "\n",
    "model.add(Flatten())\n",
    "model.add(Dropout(0.5))\n",
    "#Flatten layer to stack the output convolutions from second convolution layer\n",
    "model.add(Dense(50,activation='relu'))\n",
    "#Dense layer of 64 neurons\n",
    "model.add(Dense(2,activation='sigmoid'))\n",
    "#The Final layer with two outputs for two categories\n",
    "\n",
    "model.compile(loss='binary_crossentropy',optimizer='adam',metrics=['accuracy'])"
   ]
  },
  {
   "cell_type": "code",
   "execution_count": 16,
   "metadata": {},
   "outputs": [],
   "source": [
    "train_data,test_data,train_target,test_target=train_test_split(data,target,test_size=0.25)"
   ]
  },
  {
   "cell_type": "code",
   "execution_count": 17,
   "metadata": {},
   "outputs": [
    {
     "data": {
      "text/plain": [
       "(1032, 100, 100, 1)"
      ]
     },
     "execution_count": 17,
     "metadata": {},
     "output_type": "execute_result"
    }
   ],
   "source": [
    "train_data.shape"
   ]
  },
  {
   "cell_type": "code",
   "execution_count": 18,
   "metadata": {},
   "outputs": [
    {
     "data": {
      "text/plain": [
       "(344, 100, 100, 1)"
      ]
     },
     "execution_count": 18,
     "metadata": {},
     "output_type": "execute_result"
    }
   ],
   "source": [
    "test_data.shape"
   ]
  },
  {
   "cell_type": "code",
   "execution_count": 24,
   "metadata": {},
   "outputs": [
    {
     "name": "stdout",
     "output_type": "stream",
     "text": [
      "Train on 990 samples, validate on 248 samples\n",
      "Epoch 1/20\n",
      "990/990 [==============================] - 4s 4ms/step - loss: 0.6936 - accuracy: 0.4732 - val_loss: 0.6931 - val_accuracy: 0.5000\n",
      "Epoch 2/20\n",
      "990/990 [==============================] - 3s 3ms/step - loss: 0.6932 - accuracy: 0.5035 - val_loss: 0.6933 - val_accuracy: 0.4839\n",
      "Epoch 3/20\n",
      "990/990 [==============================] - 3s 3ms/step - loss: 0.6932 - accuracy: 0.5071 - val_loss: 0.6933 - val_accuracy: 0.4839\n",
      "Epoch 4/20\n",
      "990/990 [==============================] - 3s 3ms/step - loss: 0.6931 - accuracy: 0.5071 - val_loss: 0.6933 - val_accuracy: 0.4839\n",
      "Epoch 5/20\n",
      "990/990 [==============================] - 3s 3ms/step - loss: 0.6931 - accuracy: 0.5071 - val_loss: 0.6933 - val_accuracy: 0.4839\n",
      "Epoch 6/20\n",
      "990/990 [==============================] - 3s 3ms/step - loss: 0.6931 - accuracy: 0.5071 - val_loss: 0.6934 - val_accuracy: 0.4839\n",
      "Epoch 7/20\n",
      "990/990 [==============================] - 3s 3ms/step - loss: 0.6931 - accuracy: 0.5071 - val_loss: 0.6934 - val_accuracy: 0.4839\n",
      "Epoch 8/20\n",
      "990/990 [==============================] - 3s 3ms/step - loss: 0.6931 - accuracy: 0.5071 - val_loss: 0.6934 - val_accuracy: 0.4839\n",
      "Epoch 9/20\n",
      "990/990 [==============================] - 3s 3ms/step - loss: 0.6931 - accuracy: 0.5071 - val_loss: 0.6934 - val_accuracy: 0.4839\n",
      "Epoch 10/20\n",
      "990/990 [==============================] - 3s 3ms/step - loss: 0.6931 - accuracy: 0.5071 - val_loss: 0.6935 - val_accuracy: 0.4839\n",
      "Epoch 11/20\n",
      "990/990 [==============================] - 3s 3ms/step - loss: 0.6931 - accuracy: 0.5071 - val_loss: 0.6935 - val_accuracy: 0.4839\n",
      "Epoch 12/20\n",
      "990/990 [==============================] - 3s 3ms/step - loss: 0.6931 - accuracy: 0.5071 - val_loss: 0.6935 - val_accuracy: 0.4839\n",
      "Epoch 13/20\n",
      "990/990 [==============================] - 3s 3ms/step - loss: 0.6931 - accuracy: 0.5071 - val_loss: 0.6935 - val_accuracy: 0.4839\n",
      "Epoch 14/20\n",
      "990/990 [==============================] - 3s 3ms/step - loss: 0.6931 - accuracy: 0.5071 - val_loss: 0.6935 - val_accuracy: 0.4839\n",
      "Epoch 15/20\n",
      "990/990 [==============================] - 3s 3ms/step - loss: 0.6931 - accuracy: 0.5071 - val_loss: 0.6936 - val_accuracy: 0.4839\n",
      "Epoch 16/20\n",
      "990/990 [==============================] - 3s 3ms/step - loss: 0.6931 - accuracy: 0.5071 - val_loss: 0.6936 - val_accuracy: 0.4839\n",
      "Epoch 17/20\n",
      "990/990 [==============================] - 3s 3ms/step - loss: 0.6931 - accuracy: 0.5071 - val_loss: 0.6936 - val_accuracy: 0.4839\n",
      "Epoch 18/20\n",
      "990/990 [==============================] - 3s 3ms/step - loss: 0.6931 - accuracy: 0.5071 - val_loss: 0.6936 - val_accuracy: 0.4839\n",
      "Epoch 19/20\n",
      "990/990 [==============================] - 3s 3ms/step - loss: 0.6931 - accuracy: 0.5071 - val_loss: 0.6936 - val_accuracy: 0.4839\n",
      "Epoch 20/20\n",
      "990/990 [==============================] - 3s 3ms/step - loss: 0.6931 - accuracy: 0.5071 - val_loss: 0.6937 - val_accuracy: 0.4839\n"
     ]
    }
   ],
   "source": [
    "checkpoint = ModelCheckpoint('model-{epoch:03d}.model',monitor='val_loss',verbose=0,save_best_only=True,mode='auto')\n",
    "\n",
    "history=model.fit(train_data,train_target,epochs=20,callbacks=[checkpoint],validation_split=0.2)"
   ]
  },
  {
   "cell_type": "code",
   "execution_count": 25,
   "metadata": {},
   "outputs": [
    {
     "data": {
      "image/png": "[encoded data removed]",
      "text/plain": [
       "<Figure size 432x288 with 1 Axes>"
      ]
     },
     "metadata": {
      "needs_background": "light"
     },
     "output_type": "display_data"
    }
   ],
   "source": [
    "\n",
    "\n",
    "plt.plot(history.history['loss'],'r',label='training loss')\n",
    "plt.plot(history.history['val_loss'],label='validation loss')\n",
    "plt.xlabel('# epochs')\n",
    "plt.ylabel('loss')\n",
    "plt.legend()\n",
    "plt.show()"
   ]
  },
  {
   "cell_type": "code",
   "execution_count": 26,
   "metadata": {},
   "outputs": [
    {
     "data": {
      "image/png": "[encoded data removed]",
      "text/plain": [
       "<Figure size 432x288 with 1 Axes>"
      ]
     },
     "metadata": {
      "needs_background": "light"
     },
     "output_type": "display_data"
    }
   ],
   "source": [
    "plt.plot(history.history['accuracy'],'r',label='training accuracy')\n",
    "plt.plot(history.history['val_accuracy'],label='validation accuracy')\n",
    "plt.xlabel('# epochs')\n",
    "plt.ylabel('loss')\n",
    "plt.legend()\n",
    "plt.show()"
   ]
  },
  {
   "cell_type": "markdown",
   "metadata": {},
   "source": [
    "## CNN Architecture 2"
   ]
  },
  {
   "cell_type": "code",
   "execution_count": 23,
   "metadata": {},
   "outputs": [
    {
     "name": "stdout",
     "output_type": "stream",
     "text": [
      "Model: \"sequential_2\"\n",
      "_________________________________________________________________\n",
      "Layer (type)                 Output Shape              Param #   \n",
      "=================================================================\n",
      "conv2d_3 (Conv2D)            (None, 98, 98, 64)        640       \n",
      "_________________________________________________________________\n",
      "activation_3 (Activation)    (None, 98, 98, 64)        0         \n",
      "_________________________________________________________________\n",
      "max_pooling2d_3 (MaxPooling2 (None, 49, 49, 64)        0         \n",
      "_________________________________________________________________\n",
      "conv2d_4 (Conv2D)            (None, 47, 47, 128)       73856     \n",
      "_________________________________________________________________\n",
      "activation_4 (Activation)    (None, 47, 47, 128)       0         \n",
      "_________________________________________________________________\n",
      "max_pooling2d_4 (MaxPooling2 (None, 23, 23, 128)       0         \n",
      "_________________________________________________________________\n",
      "flatten_2 (Flatten)          (None, 67712)             0         \n",
      "_________________________________________________________________\n",
      "dropout_2 (Dropout)          (None, 67712)             0         \n",
      "_________________________________________________________________\n",
      "dense_3 (Dense)              (None, 64)                4333632   \n",
      "_________________________________________________________________\n",
      "dense_4 (Dense)              (None, 2)                 130       \n",
      "=================================================================\n",
      "Total params: 4,408,258\n",
      "Trainable params: 4,408,258\n",
      "Non-trainable params: 0\n",
      "_________________________________________________________________\n",
      "None\n"
     ]
    }
   ],
   "source": [
    "from keras.models import Sequential\n",
    "from keras.layers import Dense, Activation, Flatten , Dropout\n",
    "from keras.layers import Conv2D,MaxPooling2D\n",
    "\n",
    "num_classes = 2\n",
    "batch_size = 32\n",
    "\n",
    "model = Sequential()\n",
    "\n",
    "model.add(Conv2D(64,(3,3),input_shape=(100,100,1)))\n",
    "model.add(Activation('relu'))\n",
    "model.add(MaxPooling2D(pool_size = (2,2)))\n",
    "\n",
    "\n",
    "model.add(Conv2D(128,(3,3)))\n",
    "model.add(Activation('relu'))\n",
    "model.add(MaxPooling2D(pool_size = (2,2)))\n",
    "\n",
    "model.add(Flatten())\n",
    "model.add(Dropout(0.5))\n",
    "\n",
    "model.add(Dense(64,activation='relu'))\n",
    "model.add(Dense(num_classes,activation='softmax'))\n",
    "\n",
    "print(model.summary())"
   ]
  },
  {
   "cell_type": "code",
   "execution_count": 25,
   "metadata": {},
   "outputs": [],
   "source": [
    "from keras.optimizers import Adam\n",
    "\n",
    "epochs = 50\n",
    "\n",
    "model.compile(loss='categorical_crossentropy',\n",
    "             optimizer = Adam(lr=0.001),\n",
    "             metrics = ['accuracy'])"
   ]
  },
  {
   "cell_type": "code",
   "execution_count": 26,
   "metadata": {
    "scrolled": true
   },
   "outputs": [
    {
     "name": "stdout",
     "output_type": "stream",
     "text": [
      "Train on 825 samples, validate on 207 samples\n",
      "Epoch 1/50\n",
      "825/825 [==============================] - 2s 2ms/step - loss: 0.6686 - accuracy: 0.6097 - val_loss: 0.6685 - val_accuracy: 0.5797\n",
      "Epoch 2/50\n",
      "825/825 [==============================] - 1s 2ms/step - loss: 0.5330 - accuracy: 0.7297 - val_loss: 0.4630 - val_accuracy: 0.7633\n",
      "Epoch 3/50\n",
      "825/825 [==============================] - 1s 2ms/step - loss: 0.3580 - accuracy: 0.8448 - val_loss: 0.3126 - val_accuracy: 0.8792\n",
      "Epoch 4/50\n",
      "825/825 [==============================] - 1s 2ms/step - loss: 0.2171 - accuracy: 0.9248 - val_loss: 0.2998 - val_accuracy: 0.8841\n",
      "Epoch 5/50\n",
      "825/825 [==============================] - 1s 2ms/step - loss: 0.1703 - accuracy: 0.9370 - val_loss: 0.2640 - val_accuracy: 0.9034\n",
      "Epoch 6/50\n",
      "825/825 [==============================] - 1s 2ms/step - loss: 0.0990 - accuracy: 0.9697 - val_loss: 0.2364 - val_accuracy: 0.9034\n",
      "Epoch 7/50\n",
      "825/825 [==============================] - 1s 2ms/step - loss: 0.0777 - accuracy: 0.9721 - val_loss: 0.2035 - val_accuracy: 0.9275\n",
      "Epoch 8/50\n",
      "825/825 [==============================] - 1s 2ms/step - loss: 0.0583 - accuracy: 0.9842 - val_loss: 0.1559 - val_accuracy: 0.9469\n",
      "Epoch 9/50\n",
      "825/825 [==============================] - 1s 2ms/step - loss: 0.0322 - accuracy: 0.9915 - val_loss: 0.1419 - val_accuracy: 0.9710\n",
      "Epoch 10/50\n",
      "825/825 [==============================] - 1s 2ms/step - loss: 0.0761 - accuracy: 0.9636 - val_loss: 0.1713 - val_accuracy: 0.9517\n",
      "Epoch 11/50\n",
      "825/825 [==============================] - 1s 2ms/step - loss: 0.0661 - accuracy: 0.9745 - val_loss: 0.1742 - val_accuracy: 0.9469\n",
      "Epoch 12/50\n",
      "825/825 [==============================] - 1s 2ms/step - loss: 0.0499 - accuracy: 0.9758 - val_loss: 0.3177 - val_accuracy: 0.8986\n",
      "Epoch 13/50\n",
      "825/825 [==============================] - 1s 2ms/step - loss: 0.0399 - accuracy: 0.9842 - val_loss: 0.2267 - val_accuracy: 0.9227\n",
      "Epoch 14/50\n",
      "825/825 [==============================] - 1s 2ms/step - loss: 0.0618 - accuracy: 0.9806 - val_loss: 0.1603 - val_accuracy: 0.9565\n",
      "Epoch 15/50\n",
      "825/825 [==============================] - 1s 2ms/step - loss: 0.0181 - accuracy: 0.9964 - val_loss: 0.1486 - val_accuracy: 0.9565\n",
      "Epoch 16/50\n",
      "825/825 [==============================] - 1s 2ms/step - loss: 0.0285 - accuracy: 0.9891 - val_loss: 0.1533 - val_accuracy: 0.9420\n",
      "Epoch 17/50\n",
      "825/825 [==============================] - 1s 2ms/step - loss: 0.0152 - accuracy: 0.9964 - val_loss: 0.1841 - val_accuracy: 0.9420\n",
      "Epoch 18/50\n",
      "825/825 [==============================] - 1s 2ms/step - loss: 0.0147 - accuracy: 0.9964 - val_loss: 0.1546 - val_accuracy: 0.9565\n",
      "Epoch 19/50\n",
      "825/825 [==============================] - 1s 2ms/step - loss: 0.0090 - accuracy: 0.9976 - val_loss: 0.1898 - val_accuracy: 0.9469\n",
      "Epoch 20/50\n",
      "825/825 [==============================] - 1s 2ms/step - loss: 0.0064 - accuracy: 0.9988 - val_loss: 0.2330 - val_accuracy: 0.9324\n",
      "Epoch 21/50\n",
      "825/825 [==============================] - 1s 2ms/step - loss: 0.0187 - accuracy: 0.9939 - val_loss: 0.1464 - val_accuracy: 0.9710\n",
      "Epoch 22/50\n",
      "825/825 [==============================] - 1s 2ms/step - loss: 0.0127 - accuracy: 0.9964 - val_loss: 0.1745 - val_accuracy: 0.9614\n",
      "Epoch 23/50\n",
      "825/825 [==============================] - 1s 2ms/step - loss: 0.0104 - accuracy: 0.9964 - val_loss: 0.2834 - val_accuracy: 0.9034\n",
      "Epoch 24/50\n",
      "825/825 [==============================] - 1s 2ms/step - loss: 0.0253 - accuracy: 0.9903 - val_loss: 0.1416 - val_accuracy: 0.9614\n",
      "Epoch 25/50\n",
      "825/825 [==============================] - 1s 2ms/step - loss: 0.0072 - accuracy: 0.9988 - val_loss: 0.1548 - val_accuracy: 0.9565\n",
      "Epoch 26/50\n",
      "825/825 [==============================] - 1s 2ms/step - loss: 0.0029 - accuracy: 1.0000 - val_loss: 0.1628 - val_accuracy: 0.9614\n",
      "Epoch 27/50\n",
      "825/825 [==============================] - 1s 2ms/step - loss: 0.0020 - accuracy: 1.0000 - val_loss: 0.1531 - val_accuracy: 0.9614\n",
      "Epoch 28/50\n",
      "825/825 [==============================] - 1s 2ms/step - loss: 0.0039 - accuracy: 0.9988 - val_loss: 0.1794 - val_accuracy: 0.9565\n",
      "Epoch 29/50\n",
      "825/825 [==============================] - 1s 2ms/step - loss: 0.0075 - accuracy: 0.9976 - val_loss: 0.1559 - val_accuracy: 0.9565\n",
      "Epoch 30/50\n",
      "825/825 [==============================] - 1s 2ms/step - loss: 0.0151 - accuracy: 0.9976 - val_loss: 0.1468 - val_accuracy: 0.9710\n",
      "Epoch 31/50\n",
      "825/825 [==============================] - 1s 2ms/step - loss: 0.0078 - accuracy: 0.9976 - val_loss: 0.1442 - val_accuracy: 0.9662\n",
      "Epoch 32/50\n",
      "825/825 [==============================] - 1s 2ms/step - loss: 0.0122 - accuracy: 0.9964 - val_loss: 0.1489 - val_accuracy: 0.9662\n",
      "Epoch 33/50\n",
      "825/825 [==============================] - 1s 2ms/step - loss: 0.0060 - accuracy: 0.9976 - val_loss: 0.2015 - val_accuracy: 0.9469\n",
      "Epoch 34/50\n",
      "825/825 [==============================] - 1s 2ms/step - loss: 0.0171 - accuracy: 0.9939 - val_loss: 0.1249 - val_accuracy: 0.9710\n",
      "Epoch 35/50\n",
      "825/825 [==============================] - 1s 2ms/step - loss: 0.0045 - accuracy: 0.9988 - val_loss: 0.1441 - val_accuracy: 0.9662\n",
      "Epoch 36/50\n",
      "825/825 [==============================] - 1s 2ms/step - loss: 0.0018 - accuracy: 1.0000 - val_loss: 0.1562 - val_accuracy: 0.9614\n",
      "Epoch 37/50\n",
      "825/825 [==============================] - 1s 2ms/step - loss: 0.0019 - accuracy: 1.0000 - val_loss: 0.1454 - val_accuracy: 0.9710\n",
      "Epoch 38/50\n",
      "825/825 [==============================] - 1s 2ms/step - loss: 8.3899e-04 - accuracy: 1.0000 - val_loss: 0.1507 - val_accuracy: 0.9710\n",
      "Epoch 39/50\n",
      "825/825 [==============================] - 1s 2ms/step - loss: 7.4384e-04 - accuracy: 1.0000 - val_loss: 0.1397 - val_accuracy: 0.9662\n",
      "Epoch 40/50\n",
      "825/825 [==============================] - 1s 2ms/step - loss: 0.0036 - accuracy: 0.9976 - val_loss: 0.1355 - val_accuracy: 0.9710\n",
      "Epoch 41/50\n",
      "825/825 [==============================] - 1s 2ms/step - loss: 0.0104 - accuracy: 0.9964 - val_loss: 0.2222 - val_accuracy: 0.9372\n",
      "Epoch 42/50\n",
      "825/825 [==============================] - 1s 2ms/step - loss: 0.0140 - accuracy: 0.9964 - val_loss: 0.1567 - val_accuracy: 0.9565\n",
      "Epoch 43/50\n",
      "825/825 [==============================] - 1s 2ms/step - loss: 0.0088 - accuracy: 0.9976 - val_loss: 0.2029 - val_accuracy: 0.9372\n",
      "Epoch 44/50\n",
      "825/825 [==============================] - 1s 2ms/step - loss: 0.0062 - accuracy: 0.9976 - val_loss: 0.1303 - val_accuracy: 0.9662\n",
      "Epoch 45/50\n",
      "825/825 [==============================] - 1s 2ms/step - loss: 0.0020 - accuracy: 1.0000 - val_loss: 0.1431 - val_accuracy: 0.9710\n",
      "Epoch 46/50\n",
      "825/825 [==============================] - 1s 2ms/step - loss: 0.0098 - accuracy: 0.9952 - val_loss: 0.2778 - val_accuracy: 0.9227\n",
      "Epoch 47/50\n",
      "825/825 [==============================] - 1s 2ms/step - loss: 0.0117 - accuracy: 0.9964 - val_loss: 0.2033 - val_accuracy: 0.9372\n",
      "Epoch 48/50\n",
      "825/825 [==============================] - 1s 2ms/step - loss: 0.0011 - accuracy: 1.0000 - val_loss: 0.1560 - val_accuracy: 0.9614\n",
      "Epoch 49/50\n",
      "825/825 [==============================] - 1s 2ms/step - loss: 7.8745e-04 - accuracy: 1.0000 - val_loss: 0.1477 - val_accuracy: 0.9614\n",
      "Epoch 50/50\n",
      "825/825 [==============================] - 1s 2ms/step - loss: 8.3425e-04 - accuracy: 1.0000 - val_loss: 0.1511 - val_accuracy: 0.9662\n"
     ]
    }
   ],
   "source": [
    "checkpoint = ModelCheckpoint('model-{epoch:03d}.model',monitor='val_accuracy',verbose=0,save_best_only=True,mode='auto')\n",
    "\n",
    "fitted_model = model.fit(train_data,train_target,epochs=50,callbacks=[checkpoint],validation_split=0.2)"
   ]
  },
  {
   "cell_type": "code",
   "execution_count": 27,
   "metadata": {},
   "outputs": [
    {
     "data": {
      "image/png": "[encoded data removed]",
      "text/plain": [
       "<Figure size 432x288 with 1 Axes>"
      ]
     },
     "metadata": {
      "needs_background": "light"
     },
     "output_type": "display_data"
    }
   ],
   "source": [
    "plt.plot(fitted_model.history['loss'],'r',label='training loss')\n",
    "plt.plot(fitted_model.history['val_loss'],label='validation loss')\n",
    "plt.xlabel('# epochs')\n",
    "plt.ylabel('loss')\n",
    "plt.legend()\n",
    "plt.show()"
   ]
  },
  {
   "cell_type": "code",
   "execution_count": 28,
   "metadata": {},
   "outputs": [
    {
     "data": {
      "image/png": "[encoded data removed]",
      "text/plain": [
       "<Figure size 432x288 with 1 Axes>"
      ]
     },
     "metadata": {
      "needs_background": "light"
     },
     "output_type": "display_data"
    }
   ],
   "source": [
    "plt.plot(fitted_model.history['accuracy'],'r',label = 'training_acc')\n",
    "plt.plot(fitted_model.history['val_accuracy'],label = 'validation_acc')\n",
    "plt.xlabel('Number of epochs')\n",
    "plt.ylabel('accuracy value')\n",
    "plt.legend()\n",
    "plt.show()"
   ]
  },
  {
   "cell_type": "code",
   "execution_count": 29,
   "metadata": {},
   "outputs": [
    {
     "data": {
      "text/plain": [
       "\"from keras.utils.vis_utils import plot_model\\nplot_model(model , to_file = 'face_mask_detection.png')\\n\""
      ]
     },
     "execution_count": 29,
     "metadata": {},
     "output_type": "execute_result"
    }
   ],
   "source": [
    "'''from keras.utils.vis_utils import plot_model\n",
    "plot_model(model , to_file = 'face_mask_detection.png')\n",
    "'''"
   ]
  },
  {
   "cell_type": "code",
   "execution_count": 30,
   "metadata": {},
   "outputs": [
    {
     "name": "stdout",
     "output_type": "stream",
     "text": [
      "344/344 [==============================] - 0s 977us/step\n",
      "[0.45710101550401644, 0.9331395626068115]\n"
     ]
    }
   ],
   "source": [
    "print(model.evaluate(test_data,test_target))"
   ]
  },
  {
   "cell_type": "code",
   "execution_count": null,
   "metadata": {},
   "outputs": [],
   "source": []
  }
 ],
 "metadata": {
  "kernelspec": {
   "display_name": "Python 3.7 (tensorflow)",
   "language": "python",
   "name": "tensorflow"
  },
  "language_info": {
   "codemirror_mode": {
    "name": "ipython",
    "version": 3
   },
   "file_extension": ".py",
   "mimetype": "text/x-python",
   "name": "python",
   "nbconvert_exporter": "python",
   "pygments_lexer": "ipython3",
   "version": "3.7.7"
  }
 },
 "nbformat": 4,
 "nbformat_minor": 4
}
